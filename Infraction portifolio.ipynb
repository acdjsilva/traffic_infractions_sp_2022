{
 "cells": [
  {
   "cell_type": "code",
   "execution_count": 1,
   "id": "05f4cde7",
   "metadata": {},
   "outputs": [],
   "source": [
    "import pandas as pd\n",
    "import numpy as np\n",
    "import matplotlib.pyplot as plt\n",
    "import seaborn as sns"
   ]
  },
  {
   "cell_type": "code",
   "execution_count": 2,
   "id": "26544cb4",
   "metadata": {},
   "outputs": [],
   "source": [
    "df = pd.read_excel(\"DetranSP - Tickets f 2016 to march of 2023.xlsx\", sheet_name=\"2022\")\n",
    "df2 = pd.read_excel(\"DetranSP - Tickets f 2016 to march of 2023.xlsx\", sheet_name=\"2021\")"
   ]
  },
  {
   "cell_type": "code",
   "execution_count": 3,
   "id": "467fa7e3",
   "metadata": {},
   "outputs": [
    {
     "data": {
      "text/html": [
       "<div>\n",
       "<style scoped>\n",
       "    .dataframe tbody tr th:only-of-type {\n",
       "        vertical-align: middle;\n",
       "    }\n",
       "\n",
       "    .dataframe tbody tr th {\n",
       "        vertical-align: top;\n",
       "    }\n",
       "\n",
       "    .dataframe thead th {\n",
       "        text-align: right;\n",
       "    }\n",
       "</style>\n",
       "<table border=\"1\" class=\"dataframe\">\n",
       "  <thead>\n",
       "    <tr style=\"text-align: right;\">\n",
       "      <th></th>\n",
       "      <th>Municipio</th>\n",
       "      <th>Nome Municipio</th>\n",
       "      <th>Enq</th>\n",
       "      <th>Descricao</th>\n",
       "      <th>janeiro</th>\n",
       "      <th>fevereiro</th>\n",
       "      <th>marco</th>\n",
       "      <th>abril</th>\n",
       "      <th>maio</th>\n",
       "      <th>junho</th>\n",
       "      <th>julho</th>\n",
       "      <th>agosto</th>\n",
       "      <th>setembro</th>\n",
       "      <th>outubro</th>\n",
       "      <th>novembro</th>\n",
       "      <th>dezembro</th>\n",
       "      <th>Total</th>\n",
       "    </tr>\n",
       "  </thead>\n",
       "  <tbody>\n",
       "    <tr>\n",
       "      <th>0</th>\n",
       "      <td>790</td>\n",
       "      <td>ARCO IRIS</td>\n",
       "      <td>5010-0</td>\n",
       "      <td>Dirigir veiculo sem possuir CNH/PPD/ACC</td>\n",
       "      <td>0</td>\n",
       "      <td>0</td>\n",
       "      <td>0</td>\n",
       "      <td>2</td>\n",
       "      <td>2</td>\n",
       "      <td>0</td>\n",
       "      <td>0</td>\n",
       "      <td>1</td>\n",
       "      <td>0</td>\n",
       "      <td>1</td>\n",
       "      <td>1</td>\n",
       "      <td>0</td>\n",
       "      <td>7</td>\n",
       "    </tr>\n",
       "    <tr>\n",
       "      <th>1</th>\n",
       "      <td>790</td>\n",
       "      <td>ARCO IRIS</td>\n",
       "      <td>5045-0</td>\n",
       "      <td>Dirigir veiculo com validade de CNH/PPD vencid...</td>\n",
       "      <td>0</td>\n",
       "      <td>0</td>\n",
       "      <td>0</td>\n",
       "      <td>1</td>\n",
       "      <td>1</td>\n",
       "      <td>3</td>\n",
       "      <td>1</td>\n",
       "      <td>2</td>\n",
       "      <td>0</td>\n",
       "      <td>1</td>\n",
       "      <td>0</td>\n",
       "      <td>0</td>\n",
       "      <td>9</td>\n",
       "    </tr>\n",
       "    <tr>\n",
       "      <th>2</th>\n",
       "      <td>790</td>\n",
       "      <td>ARCO IRIS</td>\n",
       "      <td>5142-0</td>\n",
       "      <td>Permitir posse/conducao do veic a pessoa com C...</td>\n",
       "      <td>0</td>\n",
       "      <td>0</td>\n",
       "      <td>0</td>\n",
       "      <td>0</td>\n",
       "      <td>0</td>\n",
       "      <td>0</td>\n",
       "      <td>1</td>\n",
       "      <td>1</td>\n",
       "      <td>0</td>\n",
       "      <td>0</td>\n",
       "      <td>0</td>\n",
       "      <td>0</td>\n",
       "      <td>2</td>\n",
       "    </tr>\n",
       "  </tbody>\n",
       "</table>\n",
       "</div>"
      ],
      "text/plain": [
       "   Municipio                  Nome Municipio     Enq  \\\n",
       "0        790  ARCO IRIS                       5010-0   \n",
       "1        790  ARCO IRIS                       5045-0   \n",
       "2        790  ARCO IRIS                       5142-0   \n",
       "\n",
       "                                           Descricao  janeiro  fevereiro  \\\n",
       "0            Dirigir veiculo sem possuir CNH/PPD/ACC        0          0   \n",
       "1  Dirigir veiculo com validade de CNH/PPD vencid...        0          0   \n",
       "2  Permitir posse/conducao do veic a pessoa com C...        0          0   \n",
       "\n",
       "   marco  abril  maio  junho  julho  agosto  setembro  outubro  novembro  \\\n",
       "0      0      2     2      0      0       1         0        1         1   \n",
       "1      0      1     1      3      1       2         0        1         0   \n",
       "2      0      0     0      0      1       1         0        0         0   \n",
       "\n",
       "   dezembro  Total  \n",
       "0         0      7  \n",
       "1         0      9  \n",
       "2         0      2  "
      ]
     },
     "execution_count": 3,
     "metadata": {},
     "output_type": "execute_result"
    }
   ],
   "source": [
    "df.head(3)"
   ]
  },
  {
   "cell_type": "code",
   "execution_count": 4,
   "id": "92d0b388",
   "metadata": {},
   "outputs": [
    {
     "data": {
      "text/html": [
       "<div>\n",
       "<style scoped>\n",
       "    .dataframe tbody tr th:only-of-type {\n",
       "        vertical-align: middle;\n",
       "    }\n",
       "\n",
       "    .dataframe tbody tr th {\n",
       "        vertical-align: top;\n",
       "    }\n",
       "\n",
       "    .dataframe thead th {\n",
       "        text-align: right;\n",
       "    }\n",
       "</style>\n",
       "<table border=\"1\" class=\"dataframe\">\n",
       "  <thead>\n",
       "    <tr style=\"text-align: right;\">\n",
       "      <th></th>\n",
       "      <th>Municipio</th>\n",
       "      <th>Nome Municipio</th>\n",
       "      <th>Enq</th>\n",
       "      <th>Descricao</th>\n",
       "      <th>janeiro</th>\n",
       "      <th>fevereiro</th>\n",
       "      <th>marco</th>\n",
       "      <th>abril</th>\n",
       "      <th>maio</th>\n",
       "      <th>junho</th>\n",
       "      <th>julho</th>\n",
       "      <th>agosto</th>\n",
       "      <th>setembro</th>\n",
       "      <th>outubro</th>\n",
       "      <th>novembro</th>\n",
       "      <th>dezembro</th>\n",
       "      <th>Total</th>\n",
       "    </tr>\n",
       "  </thead>\n",
       "  <tbody>\n",
       "    <tr>\n",
       "      <th>0</th>\n",
       "      <td>790</td>\n",
       "      <td>ARCO IRIS</td>\n",
       "      <td>5010-0</td>\n",
       "      <td>Dirigir veiculo sem possuir CNH/PPD/ACC</td>\n",
       "      <td>1</td>\n",
       "      <td>1</td>\n",
       "      <td>3</td>\n",
       "      <td>0</td>\n",
       "      <td>3</td>\n",
       "      <td>1</td>\n",
       "      <td>1</td>\n",
       "      <td>0</td>\n",
       "      <td>1</td>\n",
       "      <td>0</td>\n",
       "      <td>0</td>\n",
       "      <td>1</td>\n",
       "      <td>12</td>\n",
       "    </tr>\n",
       "    <tr>\n",
       "      <th>1</th>\n",
       "      <td>790</td>\n",
       "      <td>ARCO IRIS</td>\n",
       "      <td>5045-0</td>\n",
       "      <td>Dirigir veiculo com validade de CNH/PPD vencid...</td>\n",
       "      <td>0</td>\n",
       "      <td>1</td>\n",
       "      <td>0</td>\n",
       "      <td>0</td>\n",
       "      <td>0</td>\n",
       "      <td>1</td>\n",
       "      <td>0</td>\n",
       "      <td>0</td>\n",
       "      <td>0</td>\n",
       "      <td>0</td>\n",
       "      <td>0</td>\n",
       "      <td>0</td>\n",
       "      <td>2</td>\n",
       "    </tr>\n",
       "    <tr>\n",
       "      <th>2</th>\n",
       "      <td>790</td>\n",
       "      <td>ARCO IRIS</td>\n",
       "      <td>5061-0</td>\n",
       "      <td>Entregar veiculo a pessoa sem CNH/PPD/ACC</td>\n",
       "      <td>0</td>\n",
       "      <td>0</td>\n",
       "      <td>1</td>\n",
       "      <td>0</td>\n",
       "      <td>0</td>\n",
       "      <td>0</td>\n",
       "      <td>1</td>\n",
       "      <td>0</td>\n",
       "      <td>0</td>\n",
       "      <td>0</td>\n",
       "      <td>0</td>\n",
       "      <td>0</td>\n",
       "      <td>2</td>\n",
       "    </tr>\n",
       "  </tbody>\n",
       "</table>\n",
       "</div>"
      ],
      "text/plain": [
       "   Municipio                  Nome Municipio     Enq  \\\n",
       "0        790  ARCO IRIS                       5010-0   \n",
       "1        790  ARCO IRIS                       5045-0   \n",
       "2        790  ARCO IRIS                       5061-0   \n",
       "\n",
       "                                           Descricao  janeiro  fevereiro  \\\n",
       "0            Dirigir veiculo sem possuir CNH/PPD/ACC        1          1   \n",
       "1  Dirigir veiculo com validade de CNH/PPD vencid...        0          1   \n",
       "2          Entregar veiculo a pessoa sem CNH/PPD/ACC        0          0   \n",
       "\n",
       "   marco  abril  maio  junho  julho  agosto  setembro  outubro  novembro  \\\n",
       "0      3      0     3      1      1       0         1        0         0   \n",
       "1      0      0     0      1      0       0         0        0         0   \n",
       "2      1      0     0      0      1       0         0        0         0   \n",
       "\n",
       "   dezembro  Total  \n",
       "0         1     12  \n",
       "1         0      2  \n",
       "2         0      2  "
      ]
     },
     "execution_count": 4,
     "metadata": {},
     "output_type": "execute_result"
    }
   ],
   "source": [
    "df2.head(3)"
   ]
  },
  {
   "cell_type": "code",
   "execution_count": 5,
   "id": "86741267",
   "metadata": {},
   "outputs": [
    {
     "name": "stdout",
     "output_type": "stream",
     "text": [
      "Total of number of differents offenses 2022: 321\n"
     ]
    }
   ],
   "source": [
    "total_offense_2022 = df.Descricao.nunique()\n",
    "print(f\"Total of number of differents offenses 2022: {total_offense_2022}\")\n"
   ]
  },
  {
   "cell_type": "code",
   "execution_count": 6,
   "id": "575b7c3d",
   "metadata": {},
   "outputs": [
    {
     "name": "stdout",
     "output_type": "stream",
     "text": [
      "Total of number of differents offenses 2021: 327\n"
     ]
    }
   ],
   "source": [
    "total_offense_2021 = df2.Descricao.nunique()\n",
    "print(f\"Total of number of differents offenses 2021: {total_offense_2021}\")"
   ]
  },
  {
   "cell_type": "code",
   "execution_count": 7,
   "id": "966cc85c",
   "metadata": {},
   "outputs": [],
   "source": [
    "# Data from 2022 - insignts from 2022"
   ]
  },
  {
   "cell_type": "code",
   "execution_count": 8,
   "id": "e6cd3364",
   "metadata": {},
   "outputs": [
    {
     "name": "stdout",
     "output_type": "stream",
     "text": [
      "                     Nome Municipio  Total\n",
      "0    ADAMANTINA                       2781\n",
      "1    ADOLFO                             40\n",
      "2    AGUAI                            1914\n",
      "3    AGUAS DA PRATA                    623\n",
      "4    AGUAS DE LINDOIA                  441\n",
      "..                              ...    ...\n",
      "640  VISTA ALEGRE DO ALTO              152\n",
      "641  VITORIA BRASIL                     92\n",
      "642  VOTORANTIM                       2756\n",
      "643  VOTUPORANGA                      4148\n",
      "644  ZACARIAS                           29\n",
      "\n",
      "[645 rows x 2 columns]\n"
     ]
    }
   ],
   "source": [
    "infraction_city2022 = df.groupby(['Nome Municipio'])['Total'].sum().reset_index()\n",
    "print(infraction_city2022)"
   ]
  },
  {
   "cell_type": "code",
   "execution_count": 9,
   "id": "e74ccf80",
   "metadata": {},
   "outputs": [],
   "source": [
    "#Cities with most number of infractions 2022"
   ]
  },
  {
   "cell_type": "code",
   "execution_count": 10,
   "id": "f596c6dd",
   "metadata": {},
   "outputs": [
    {
     "data": {
      "text/html": [
       "<div>\n",
       "<style scoped>\n",
       "    .dataframe tbody tr th:only-of-type {\n",
       "        vertical-align: middle;\n",
       "    }\n",
       "\n",
       "    .dataframe tbody tr th {\n",
       "        vertical-align: top;\n",
       "    }\n",
       "\n",
       "    .dataframe thead th {\n",
       "        text-align: right;\n",
       "    }\n",
       "</style>\n",
       "<table border=\"1\" class=\"dataframe\">\n",
       "  <thead>\n",
       "    <tr style=\"text-align: right;\">\n",
       "      <th></th>\n",
       "      <th>Nome Municipio</th>\n",
       "      <th>Total</th>\n",
       "    </tr>\n",
       "  </thead>\n",
       "  <tbody>\n",
       "    <tr>\n",
       "      <th>564</th>\n",
       "      <td>SAO PAULO</td>\n",
       "      <td>1036756</td>\n",
       "    </tr>\n",
       "    <tr>\n",
       "      <th>214</th>\n",
       "      <td>GUARULHOS</td>\n",
       "      <td>42198</td>\n",
       "    </tr>\n",
       "    <tr>\n",
       "      <th>108</th>\n",
       "      <td>CAMPINAS</td>\n",
       "      <td>30673</td>\n",
       "    </tr>\n",
       "    <tr>\n",
       "      <th>559</th>\n",
       "      <td>SAO JOSE DOS CAMPOS</td>\n",
       "      <td>28797</td>\n",
       "    </tr>\n",
       "    <tr>\n",
       "      <th>67</th>\n",
       "      <td>BAURU</td>\n",
       "      <td>25600</td>\n",
       "    </tr>\n",
       "  </tbody>\n",
       "</table>\n",
       "</div>"
      ],
      "text/plain": [
       "                     Nome Municipio    Total\n",
       "564  SAO PAULO                       1036756\n",
       "214  GUARULHOS                         42198\n",
       "108  CAMPINAS                          30673\n",
       "559  SAO JOSE DOS CAMPOS               28797\n",
       "67   BAURU                             25600"
      ]
     },
     "execution_count": 10,
     "metadata": {},
     "output_type": "execute_result"
    }
   ],
   "source": [
    "infraction_city2022.sort_values(by=\"Total\", ascending=False).head(5)"
   ]
  },
  {
   "cell_type": "code",
   "execution_count": 11,
   "id": "a05401e2",
   "metadata": {},
   "outputs": [
    {
     "data": {
      "text/html": [
       "<div>\n",
       "<style scoped>\n",
       "    .dataframe tbody tr th:only-of-type {\n",
       "        vertical-align: middle;\n",
       "    }\n",
       "\n",
       "    .dataframe tbody tr th {\n",
       "        vertical-align: top;\n",
       "    }\n",
       "\n",
       "    .dataframe thead th {\n",
       "        text-align: right;\n",
       "    }\n",
       "</style>\n",
       "<table border=\"1\" class=\"dataframe\">\n",
       "  <thead>\n",
       "    <tr style=\"text-align: right;\">\n",
       "      <th></th>\n",
       "      <th>Nome Municipio</th>\n",
       "      <th>Total</th>\n",
       "    </tr>\n",
       "  </thead>\n",
       "  <tbody>\n",
       "    <tr>\n",
       "      <th>81</th>\n",
       "      <td>BORA</td>\n",
       "      <td>2</td>\n",
       "    </tr>\n",
       "    <tr>\n",
       "      <th>556</th>\n",
       "      <td>SAO JOSE DO BARREIRO</td>\n",
       "      <td>5</td>\n",
       "    </tr>\n",
       "    <tr>\n",
       "      <th>372</th>\n",
       "      <td>NOVA CASTILHO</td>\n",
       "      <td>6</td>\n",
       "    </tr>\n",
       "    <tr>\n",
       "      <th>413</th>\n",
       "      <td>PAULISTANIA</td>\n",
       "      <td>8</td>\n",
       "    </tr>\n",
       "    <tr>\n",
       "      <th>309</th>\n",
       "      <td>LOURDES</td>\n",
       "      <td>9</td>\n",
       "    </tr>\n",
       "  </tbody>\n",
       "</table>\n",
       "</div>"
      ],
      "text/plain": [
       "                     Nome Municipio  Total\n",
       "81   BORA                                2\n",
       "556  SAO JOSE DO BARREIRO                5\n",
       "372  NOVA CASTILHO                       6\n",
       "413  PAULISTANIA                         8\n",
       "309  LOURDES                             9"
      ]
     },
     "execution_count": 11,
     "metadata": {},
     "output_type": "execute_result"
    }
   ],
   "source": [
    "infraction_city2022.sort_values(by=\"Total\", ascending=True).head(5)"
   ]
  },
  {
   "cell_type": "code",
   "execution_count": 12,
   "id": "cb22f614",
   "metadata": {},
   "outputs": [],
   "source": [
    "grouped_data2022 = df.groupby('Descricao')['Total'].sum().head(5)\n"
   ]
  },
  {
   "cell_type": "code",
   "execution_count": 36,
   "id": "41a79c8b",
   "metadata": {},
   "outputs": [
    {
     "data": {
      "image/png": "[encoded data removed]",
      "text/plain": [
       "<Figure size 900x3000 with 1 Axes>"
      ]
     },
     "metadata": {},
     "output_type": "display_data"
    }
   ],
   "source": [
    "grouped_data2022.plot(kind='pie', figsize=(9, 30), labeldistance=None, autopct='%1.1f%%')\n",
    "plt.xlabel('Offense')\n",
    "plt.ylabel('Number of offese 2022')\n",
    "plt.title('Total of the highest 5 offenses in 2022')\n",
    "plt.legend('Offense')\n",
    "plt.legend(bbox_to_anchor=(1.05, 1), loc='upper left')\n",
    "plt.show()"
   ]
  },
  {
   "cell_type": "code",
   "execution_count": 14,
   "id": "0414b58c",
   "metadata": {},
   "outputs": [],
   "source": [
    "# Data from 2021 - insignts from 2021"
   ]
  },
  {
   "cell_type": "code",
   "execution_count": 15,
   "id": "858bb52b",
   "metadata": {},
   "outputs": [
    {
     "name": "stdout",
     "output_type": "stream",
     "text": [
      "                     Nome Municipio  Total\n",
      "0    ADAMANTINA                       1479\n",
      "1    ADOLFO                            108\n",
      "2    AGUAI                            2316\n",
      "3    AGUAS DA PRATA                    444\n",
      "4    AGUAS DE LINDOIA                  319\n",
      "..                              ...    ...\n",
      "640  VISTA ALEGRE DO ALTO              269\n",
      "641  VITORIA BRASIL                     69\n",
      "642  VOTORANTIM                       2942\n",
      "643  VOTUPORANGA                      3276\n",
      "644  ZACARIAS                           41\n",
      "\n",
      "[645 rows x 2 columns]\n"
     ]
    }
   ],
   "source": [
    "infraction_city2021 = df2.groupby(['Nome Municipio'])['Total'].sum().reset_index()\n",
    "print(infraction_city2021)"
   ]
  },
  {
   "cell_type": "code",
   "execution_count": 16,
   "id": "f57995ea",
   "metadata": {},
   "outputs": [],
   "source": [
    "#Cities with most number of infractions 2021"
   ]
  },
  {
   "cell_type": "code",
   "execution_count": 17,
   "id": "d38f5921",
   "metadata": {},
   "outputs": [
    {
     "data": {
      "text/html": [
       "<div>\n",
       "<style scoped>\n",
       "    .dataframe tbody tr th:only-of-type {\n",
       "        vertical-align: middle;\n",
       "    }\n",
       "\n",
       "    .dataframe tbody tr th {\n",
       "        vertical-align: top;\n",
       "    }\n",
       "\n",
       "    .dataframe thead th {\n",
       "        text-align: right;\n",
       "    }\n",
       "</style>\n",
       "<table border=\"1\" class=\"dataframe\">\n",
       "  <thead>\n",
       "    <tr style=\"text-align: right;\">\n",
       "      <th></th>\n",
       "      <th>Nome Municipio</th>\n",
       "      <th>Total</th>\n",
       "    </tr>\n",
       "  </thead>\n",
       "  <tbody>\n",
       "    <tr>\n",
       "      <th>564</th>\n",
       "      <td>SAO PAULO</td>\n",
       "      <td>556455</td>\n",
       "    </tr>\n",
       "    <tr>\n",
       "      <th>214</th>\n",
       "      <td>GUARULHOS</td>\n",
       "      <td>33107</td>\n",
       "    </tr>\n",
       "    <tr>\n",
       "      <th>559</th>\n",
       "      <td>SAO JOSE DOS CAMPOS</td>\n",
       "      <td>23596</td>\n",
       "    </tr>\n",
       "    <tr>\n",
       "      <th>108</th>\n",
       "      <td>CAMPINAS</td>\n",
       "      <td>23047</td>\n",
       "    </tr>\n",
       "    <tr>\n",
       "      <th>67</th>\n",
       "      <td>BAURU</td>\n",
       "      <td>23006</td>\n",
       "    </tr>\n",
       "    <tr>\n",
       "      <th>583</th>\n",
       "      <td>SOROCABA</td>\n",
       "      <td>22066</td>\n",
       "    </tr>\n",
       "    <tr>\n",
       "      <th>187</th>\n",
       "      <td>FRANCA</td>\n",
       "      <td>20467</td>\n",
       "    </tr>\n",
       "    <tr>\n",
       "      <th>389</th>\n",
       "      <td>OSASCO</td>\n",
       "      <td>18199</td>\n",
       "    </tr>\n",
       "    <tr>\n",
       "      <th>489</th>\n",
       "      <td>RIBEIRAO PRETO</td>\n",
       "      <td>17028</td>\n",
       "    </tr>\n",
       "    <tr>\n",
       "      <th>536</th>\n",
       "      <td>SANTO ANDRE</td>\n",
       "      <td>16368</td>\n",
       "    </tr>\n",
       "  </tbody>\n",
       "</table>\n",
       "</div>"
      ],
      "text/plain": [
       "                     Nome Municipio   Total\n",
       "564  SAO PAULO                       556455\n",
       "214  GUARULHOS                        33107\n",
       "559  SAO JOSE DOS CAMPOS              23596\n",
       "108  CAMPINAS                         23047\n",
       "67   BAURU                            23006\n",
       "583  SOROCABA                         22066\n",
       "187  FRANCA                           20467\n",
       "389  OSASCO                           18199\n",
       "489  RIBEIRAO PRETO                   17028\n",
       "536  SANTO ANDRE                      16368"
      ]
     },
     "execution_count": 17,
     "metadata": {},
     "output_type": "execute_result"
    }
   ],
   "source": [
    "infraction_city2021.sort_values(by=\"Total\", ascending=False).head(10)"
   ]
  },
  {
   "cell_type": "code",
   "execution_count": 18,
   "id": "24124d77",
   "metadata": {},
   "outputs": [
    {
     "data": {
      "text/html": [
       "<div>\n",
       "<style scoped>\n",
       "    .dataframe tbody tr th:only-of-type {\n",
       "        vertical-align: middle;\n",
       "    }\n",
       "\n",
       "    .dataframe tbody tr th {\n",
       "        vertical-align: top;\n",
       "    }\n",
       "\n",
       "    .dataframe thead th {\n",
       "        text-align: right;\n",
       "    }\n",
       "</style>\n",
       "<table border=\"1\" class=\"dataframe\">\n",
       "  <thead>\n",
       "    <tr style=\"text-align: right;\">\n",
       "      <th></th>\n",
       "      <th>Nome Municipio</th>\n",
       "      <th>Total</th>\n",
       "    </tr>\n",
       "  </thead>\n",
       "  <tbody>\n",
       "    <tr>\n",
       "      <th>81</th>\n",
       "      <td>BORA</td>\n",
       "      <td>1</td>\n",
       "    </tr>\n",
       "    <tr>\n",
       "      <th>459</th>\n",
       "      <td>PRACINHA</td>\n",
       "      <td>5</td>\n",
       "    </tr>\n",
       "    <tr>\n",
       "      <th>621</th>\n",
       "      <td>TURMALINA</td>\n",
       "      <td>10</td>\n",
       "    </tr>\n",
       "    <tr>\n",
       "      <th>417</th>\n",
       "      <td>PEDRANOPOLIS</td>\n",
       "      <td>10</td>\n",
       "    </tr>\n",
       "    <tr>\n",
       "      <th>372</th>\n",
       "      <td>NOVA CASTILHO</td>\n",
       "      <td>12</td>\n",
       "    </tr>\n",
       "    <tr>\n",
       "      <th>45</th>\n",
       "      <td>ASPASIA</td>\n",
       "      <td>13</td>\n",
       "    </tr>\n",
       "    <tr>\n",
       "      <th>533</th>\n",
       "      <td>SANTANA DA PONTE PENSA</td>\n",
       "      <td>13</td>\n",
       "    </tr>\n",
       "    <tr>\n",
       "      <th>53</th>\n",
       "      <td>BALBINOS</td>\n",
       "      <td>14</td>\n",
       "    </tr>\n",
       "    <tr>\n",
       "      <th>309</th>\n",
       "      <td>LOURDES</td>\n",
       "      <td>14</td>\n",
       "    </tr>\n",
       "    <tr>\n",
       "      <th>154</th>\n",
       "      <td>DIRCE REIS</td>\n",
       "      <td>15</td>\n",
       "    </tr>\n",
       "  </tbody>\n",
       "</table>\n",
       "</div>"
      ],
      "text/plain": [
       "                     Nome Municipio  Total\n",
       "81   BORA                                1\n",
       "459  PRACINHA                            5\n",
       "621  TURMALINA                          10\n",
       "417  PEDRANOPOLIS                       10\n",
       "372  NOVA CASTILHO                      12\n",
       "45   ASPASIA                            13\n",
       "533  SANTANA DA PONTE PENSA             13\n",
       "53   BALBINOS                           14\n",
       "309  LOURDES                            14\n",
       "154  DIRCE REIS                         15"
      ]
     },
     "execution_count": 18,
     "metadata": {},
     "output_type": "execute_result"
    }
   ],
   "source": [
    "infraction_city2021.sort_values(by=\"Total\", ascending=True).head(10)"
   ]
  },
  {
   "cell_type": "code",
   "execution_count": 19,
   "id": "f146bdd0",
   "metadata": {},
   "outputs": [],
   "source": [
    "grouped_data2021 = df2.groupby('Descricao')['Total'].sum().head(5)"
   ]
  },
  {
   "cell_type": "code",
   "execution_count": 35,
   "id": "50700e6f",
   "metadata": {},
   "outputs": [
    {
     "data": {
      "image/png": "[encoded data removed]",
      "text/plain": [
       "<Figure size 900x3000 with 1 Axes>"
      ]
     },
     "metadata": {},
     "output_type": "display_data"
    }
   ],
   "source": [
    "grouped_data2021.plot(kind='pie', figsize=(9, 30), labeldistance=None, autopct='%1.1f%%')\n",
    "plt.xlabel('Offense')\n",
    "plt.ylabel('Number of offese 2021')\n",
    "plt.title('Total of the highest 5 offenses in 2021')\n",
    "plt.legend('Offense')\n",
    "plt.legend(bbox_to_anchor=(1.05, 1), loc='upper left')\n",
    "plt.show()"
   ]
  },
  {
   "cell_type": "code",
   "execution_count": null,
   "id": "ae81d863",
   "metadata": {},
   "outputs": [],
   "source": []
  },
  {
   "cell_type": "code",
   "execution_count": null,
   "id": "f229abbe",
   "metadata": {},
   "outputs": [],
   "source": []
  },
  {
   "cell_type": "code",
   "execution_count": 21,
   "id": "4989e648",
   "metadata": {},
   "outputs": [],
   "source": [
    "#2022 x 2021 - insights"
   ]
  },
  {
   "cell_type": "code",
   "execution_count": 22,
   "id": "c8cc6b5f",
   "metadata": {},
   "outputs": [
    {
     "name": "stdout",
     "output_type": "stream",
     "text": [
      "Total of offenses in 2022: 2133697\n"
     ]
    }
   ],
   "source": [
    "total_number_offesenses_2022 = df['Total'].sum()\n",
    "print(f\"Total of offenses in 2022: {total_number_offesenses_2022}\")\n"
   ]
  },
  {
   "cell_type": "code",
   "execution_count": 23,
   "id": "c2b4a1f9",
   "metadata": {},
   "outputs": [
    {
     "name": "stdout",
     "output_type": "stream",
     "text": [
      "Total of offenses in 2021: 1563449\n"
     ]
    }
   ],
   "source": [
    "total_number_offesenses_2021 = df2['Total'].sum()\n",
    "print(f\"Total of offenses in 2021: {total_number_offesenses_2021}\")"
   ]
  },
  {
   "cell_type": "code",
   "execution_count": 24,
   "id": "9bdf6f7d",
   "metadata": {},
   "outputs": [],
   "source": [
    "#Is it true that number of total of offenses was higher in 2022 then 2021?"
   ]
  },
  {
   "cell_type": "code",
   "execution_count": 25,
   "id": "acfe3ecf",
   "metadata": {},
   "outputs": [
    {
     "name": "stdout",
     "output_type": "stream",
     "text": [
      "Total of offenses was higher in 2022\n"
     ]
    }
   ],
   "source": [
    "if total_number_offesenses_2022 >= total_number_offesenses_2021:\n",
    "    print(\"Total of offenses was higher in 2022\")\n",
    "else:\n",
    "    print(\"Total of offenses wasn't higher in 2022\")\n",
    "    \n"
   ]
  },
  {
   "cell_type": "code",
   "execution_count": 26,
   "id": "7d90f30e",
   "metadata": {},
   "outputs": [],
   "source": [
    "#2022_x_2021 Total of offesenses"
   ]
  },
  {
   "cell_type": "code",
   "execution_count": 27,
   "id": "7daf4ff4",
   "metadata": {},
   "outputs": [
    {
     "name": "stdout",
     "output_type": "stream",
     "text": [
      "Percentage of increase between 2021 to 2022 offenses:26.725819083028185\n"
     ]
    }
   ],
   "source": [
    "first_year_pct_of_second_year = (total_number_offesenses_2021 / total_number_offesenses_2022) * 100\n",
    "percent_increase_2022 = 100 - first_year_pct_of_second_year\n",
    "print(f\"Percentage of increase between 2021 to 2022 offenses:{percent_increase_2022}\")"
   ]
  },
  {
   "cell_type": "code",
   "execution_count": 28,
   "id": "97afe67c",
   "metadata": {},
   "outputs": [],
   "source": [
    "# 5 highest offense in 2022"
   ]
  },
  {
   "cell_type": "code",
   "execution_count": 29,
   "id": "b5927a71",
   "metadata": {},
   "outputs": [
    {
     "name": "stdout",
     "output_type": "stream",
     "text": [
      "The list of five highest offesense in 2022:\n"
     ]
    },
    {
     "data": {
      "text/plain": [
       "Descricao\n",
       "Abandonar na via objetos ou substancias                              6\n",
       "Atirar do veiculo objetos ou substancias                            75\n",
       "Avancar o sinal de parada obrigatoria                             1052\n",
       "Avancar o sinal vermelho do semaforo                               678\n",
       "Avancar o sinal vermelho do semaforo - fiscalizacao eletronica      13\n",
       "Name: Total, dtype: int64"
      ]
     },
     "execution_count": 29,
     "metadata": {},
     "output_type": "execute_result"
    }
   ],
   "source": [
    "total_por_ano_2022 = df.groupby('Descricao')['Total'].sum()\n",
    "print('The list of five highest offesense in 2022:')\n",
    "total_por_ano_2022.head(5)"
   ]
  },
  {
   "cell_type": "code",
   "execution_count": 30,
   "id": "6bc2ba0a",
   "metadata": {},
   "outputs": [],
   "source": [
    "# 5 highest offense in 2021"
   ]
  },
  {
   "cell_type": "code",
   "execution_count": 58,
   "id": "c4dcb26e",
   "metadata": {},
   "outputs": [
    {
     "name": "stdout",
     "output_type": "stream",
     "text": [
      "The list of five highest offesense in 2021:\n"
     ]
    },
    {
     "data": {
      "text/plain": [
       "Descricao\n",
       "Abandonar na via objetos ou substancias                             16\n",
       "Atirar do veiculo objetos ou substancias                            98\n",
       "Avancar o sinal de parada obrigatoria                             1388\n",
       "Avancar o sinal vermelho do semaforo                              1091\n",
       "Avancar o sinal vermelho do semaforo - fiscalizacao eletronica       8\n",
       "Name: Total, dtype: int64"
      ]
     },
     "execution_count": 58,
     "metadata": {},
     "output_type": "execute_result"
    }
   ],
   "source": [
    "total_por_ano_2021 = df2.groupby('Descricao')['Total'].sum()\n",
    "print('The list of five highest offesense in 2021:')\n",
    "total_por_ano_2021.head(5)"
   ]
  },
  {
   "cell_type": "code",
   "execution_count": 59,
   "id": "008c9144",
   "metadata": {},
   "outputs": [],
   "source": [
    "def total_offenses_for_city(dframe, city_name):\n",
    "    city_total = dframe[dframe['Nome Municipio'].str.strip() == city_name]['Total'].sum()\n",
    "    return city_total"
   ]
  },
  {
   "cell_type": "code",
   "execution_count": 60,
   "id": "37b3c7ae",
   "metadata": {},
   "outputs": [
    {
     "name": "stdout",
     "output_type": "stream",
     "text": [
      "Total number of offenses for Jundiai city in 2022\n"
     ]
    },
    {
     "data": {
      "text/plain": [
       "16156"
      ]
     },
     "execution_count": 60,
     "metadata": {},
     "output_type": "execute_result"
    }
   ],
   "source": [
    "total_offense_SP_2022 = total_offenses_for_city(df, \"JUNDIAI\")\n",
    "print(\"Total number of offenses for Jundiai city in 2022\")\n",
    "total_offense_SP_2022"
   ]
  },
  {
   "cell_type": "code",
   "execution_count": 61,
   "id": "4d3529c1",
   "metadata": {},
   "outputs": [
    {
     "name": "stdout",
     "output_type": "stream",
     "text": [
      "Total number of offenses for Jundiai city in 2021\n"
     ]
    },
    {
     "data": {
      "text/plain": [
       "16032"
      ]
     },
     "execution_count": 61,
     "metadata": {},
     "output_type": "execute_result"
    }
   ],
   "source": [
    "total_offense_SP_2021 = total_offenses_for_city(df2, \"JUNDIAI\")\n",
    "print(\"Total number of offenses for Jundiai city in 2021\")\n",
    "total_offense_SP_2021"
   ]
  },
  {
   "cell_type": "code",
   "execution_count": null,
   "id": "cbf9da49",
   "metadata": {},
   "outputs": [],
   "source": []
  },
  {
   "cell_type": "code",
   "execution_count": null,
   "id": "b9fe715e",
   "metadata": {},
   "outputs": [],
   "source": []
  }
 ],
 "metadata": {
  "kernelspec": {
   "display_name": "Python 3 (ipykernel)",
   "language": "python",
   "name": "python3"
  },
  "language_info": {
   "codemirror_mode": {
    "name": "ipython",
    "version": 3
   },
   "file_extension": ".py",
   "mimetype": "text/x-python",
   "name": "python",
   "nbconvert_exporter": "python",
   "pygments_lexer": "ipython3",
   "version": "3.11.5"
  }
 },
 "nbformat": 4,
 "nbformat_minor": 5
}
